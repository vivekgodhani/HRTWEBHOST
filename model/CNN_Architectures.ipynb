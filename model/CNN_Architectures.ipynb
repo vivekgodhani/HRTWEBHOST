{
 "cells": [
  {
   "cell_type": "code",
   "execution_count": 0,
   "metadata": {
    "colab": {},
    "colab_type": "code",
    "id": "L51yU1QjhBib"
   },
   "outputs": [],
   "source": [
    "import numpy as np\n",
    "import pandas as pd\n",
    "import matplotlib.pyplot as plt\n",
    "import seaborn as sns"
   ]
  },
  {
   "cell_type": "code",
   "execution_count": 2,
   "metadata": {
    "colab": {
     "base_uri": "https://localhost:8080/",
     "height": 34
    },
    "colab_type": "code",
    "id": "1uMScEwehSp8",
    "outputId": "d8cc7fa6-d3e0-4866-94a4-5083f20bedf6"
   },
   "outputs": [
    {
     "name": "stderr",
     "output_type": "stream",
     "text": [
      "Using TensorFlow backend.\n"
     ]
    }
   ],
   "source": [
    "\n",
    "from keras.datasets import mnist\n",
    "from keras.models import Sequential\n",
    "from keras.layers import Dense, Dropout, Flatten\n",
    "from keras.layers import Conv2D, MaxPooling2D\n",
    "from keras.utils import np_utils"
   ]
  },
  {
   "cell_type": "code",
   "execution_count": 3,
   "metadata": {
    "colab": {
     "base_uri": "https://localhost:8080/",
     "height": 85
    },
    "colab_type": "code",
    "id": "GuWmbHWVhnFh",
    "outputId": "233a8f26-6e0a-4c68-ac89-2a8c684e6b02"
   },
   "outputs": [
    {
     "name": "stdout",
     "output_type": "stream",
     "text": [
      "Downloading data from https://s3.amazonaws.com/img-datasets/mnist.npz\n",
      "11493376/11490434 [==============================] - 0s 0us/step\n",
      "Number of training points is 60000\n",
      "Number of testing points is 10000\n"
     ]
    }
   ],
   "source": [
    "(x_train,y_train),(x_test,y_test)=mnist.load_data()\n",
    "print(\"Number of training points is {0}\".format(x_train.shape[0]))\n",
    "print(\"Number of testing points is {0}\".format(x_test.shape[0]))"
   ]
  },
  {
   "cell_type": "code",
   "execution_count": 4,
   "metadata": {
    "colab": {
     "base_uri": "https://localhost:8080/",
     "height": 286
    },
    "colab_type": "code",
    "id": "SoXv_2ELikhv",
    "outputId": "52c0e7cc-71b6-4f51-c43b-3b31769bb9ec"
   },
   "outputs": [
    {
     "name": "stdout",
     "output_type": "stream",
     "text": [
      "Class label for 0th datapoint is 5\n"
     ]
    },
    {
     "data": {
      "image/png": "[encoded data removed]",
      "text/plain": [
       "<Figure size 432x288 with 1 Axes>"
      ]
     },
     "metadata": {
      "tags": []
     },
     "output_type": "display_data"
    }
   ],
   "source": [
    "%matplotlib inline\n",
    "print(\"Class label for 0th datapoint is {0}\".format(y_train[0]))\n",
    "plt.imshow(x_train[0],cmap='gray')\n",
    "plt.show()"
   ]
  },
  {
   "cell_type": "code",
   "execution_count": 0,
   "metadata": {
    "colab": {},
    "colab_type": "code",
    "id": "SXCZtPprjYr4"
   },
   "outputs": [],
   "source": [
    "y_train = np_utils.to_categorical(y_train, 10)\n",
    "y_test = np_utils.to_categorical(y_test, 10)"
   ]
  },
  {
   "cell_type": "code",
   "execution_count": 0,
   "metadata": {
    "colab": {},
    "colab_type": "code",
    "id": "qfGrVEn8jz-9"
   },
   "outputs": [],
   "source": []
  },
  {
   "cell_type": "code",
   "execution_count": 0,
   "metadata": {
    "colab": {},
    "colab_type": "code",
    "id": "ZPT8auAJkE3U"
   },
   "outputs": [],
   "source": [
    "batch_size = 128\n",
    "num_classes = 10\n",
    "epochs = 12\n",
    "\n",
    "# input image dimensions\n",
    "from keras import backend as K\n",
    "img_rows, img_cols = 28, 28\n",
    "\n",
    "# the data, split between train and test sets\n",
    "if K.image_data_format() == 'channels_first':\n",
    "    x_train = x_train.reshape(x_train.shape[0], 1, img_rows, img_cols)\n",
    "    x_test = x_test.reshape(x_test.shape[0], 1, img_rows, img_cols)\n",
    "    input_shape = (1, img_rows, img_cols)\n",
    "else:\n",
    "    x_train = x_train.reshape(x_train.shape[0], img_rows, img_cols, 1)\n",
    "    x_test = x_test.reshape(x_test.shape[0], img_rows, img_cols, 1)\n",
    "    input_shape = (img_rows, img_cols, 1)"
   ]
  },
  {
   "cell_type": "code",
   "execution_count": 0,
   "metadata": {
    "colab": {},
    "colab_type": "code",
    "id": "wcHE8z4blXkL"
   },
   "outputs": [],
   "source": [
    "#Normalizing data\n",
    "x_train=x_train/255\n",
    "x_test=x_test/255"
   ]
  },
  {
   "cell_type": "code",
   "execution_count": 0,
   "metadata": {
    "colab": {
     "base_uri": "https://localhost:8080/",
     "height": 408
    },
    "colab_type": "code",
    "id": "m1uuYA-glZG6",
    "outputId": "362dd22c-91b0-4853-d1ac-44e78a24e45b"
   },
   "outputs": [
    {
     "name": "stdout",
     "output_type": "stream",
     "text": [
      "_________________________________________________________________\n",
      "Layer (type)                 Output Shape              Param #   \n",
      "=================================================================\n",
      "conv2d_47 (Conv2D)           (None, 28, 28, 64)        640       \n",
      "_________________________________________________________________\n",
      "conv2d_48 (Conv2D)           (None, 28, 28, 32)        18464     \n",
      "_________________________________________________________________\n",
      "conv2d_49 (Conv2D)           (None, 28, 28, 16)        4624      \n",
      "_________________________________________________________________\n",
      "max_pooling2d_12 (MaxPooling (None, 14, 14, 16)        0         \n",
      "_________________________________________________________________\n",
      "dropout_6 (Dropout)          (None, 14, 14, 16)        0         \n",
      "_________________________________________________________________\n",
      "flatten_5 (Flatten)          (None, 3136)              0         \n",
      "_________________________________________________________________\n",
      "dense_9 (Dense)              (None, 128)               401536    \n",
      "_________________________________________________________________\n",
      "dense_10 (Dense)             (None, 10)                1290      \n",
      "=================================================================\n",
      "Total params: 426,554\n",
      "Trainable params: 426,554\n",
      "Non-trainable params: 0\n",
      "_________________________________________________________________\n"
     ]
    }
   ],
   "source": [
    "#Building a 3 Convolution layer Convnet Model\n",
    "from keras.layers.normalization import BatchNormalization\n",
    "from keras.layers import Dropout\n",
    "from keras import backend as K\n",
    "from keras.initializers import he_normal\n",
    "model=Sequential()\n",
    "model.add(Conv2D(64, kernel_size=(3, 3),\n",
    "                 activation='relu',padding='same',\n",
    "                 kernel_initializer=he_normal(seed=None),input_shape=input_shape))\n",
    "model.add(Conv2D(32, kernel_size=(3, 3),padding='same',activation='relu'))\n",
    "model.add(Conv2D(16, kernel_size=(3, 3),activation='relu',padding='same'))\n",
    "model.add(MaxPooling2D(pool_size=(2, 2)))\n",
    "\n",
    "model.add(Dropout(0.5))\n",
    "model.add(Flatten())\n",
    "model.add(Dense(128, activation='relu'))\n",
    "model.add(Dense(num_classes, activation='softmax'))\n",
    "\n",
    "model.summary()"
   ]
  },
  {
   "cell_type": "code",
   "execution_count": 0,
   "metadata": {
    "colab": {},
    "colab_type": "code",
    "id": "-Q5eFPcutymE"
   },
   "outputs": [],
   "source": []
  },
  {
   "cell_type": "code",
   "execution_count": 0,
   "metadata": {
    "colab": {},
    "colab_type": "code",
    "id": "AVS7HOJunneg"
   },
   "outputs": [],
   "source": [
    "def plt_dynamic(x, vy, ty, ax, colors=['b']):\n",
    "    ax.plot(x, vy, 'b', label=\"Validation Loss\")\n",
    "    ax.plot(x, ty, 'r', label=\"Train Loss\")\n",
    "    plt.legend()\n",
    "    plt.grid()\n",
    "    fig.canvas.draw()"
   ]
  },
  {
   "cell_type": "code",
   "execution_count": 0,
   "metadata": {
    "colab": {
     "base_uri": "https://localhost:8080/",
     "height": 442
    },
    "colab_type": "code",
    "id": "6ln6g2T1nHcq",
    "outputId": "170c04f5-dd5a-43cb-c40e-a32dd8499d90"
   },
   "outputs": [
    {
     "name": "stdout",
     "output_type": "stream",
     "text": [
      "Train on 60000 samples, validate on 10000 samples\n",
      "Epoch 1/12\n",
      "60000/60000 [==============================] - 327s 5ms/step - loss: 0.1785 - acc: 0.9444 - val_loss: 0.0469 - val_acc: 0.9854\n",
      "Epoch 2/12\n",
      "60000/60000 [==============================] - 326s 5ms/step - loss: 0.0647 - acc: 0.9797 - val_loss: 0.0322 - val_acc: 0.9889\n",
      "Epoch 3/12\n",
      "60000/60000 [==============================] - 326s 5ms/step - loss: 0.0481 - acc: 0.9845 - val_loss: 0.0274 - val_acc: 0.9903\n",
      "Epoch 4/12\n",
      "60000/60000 [==============================] - 325s 5ms/step - loss: 0.0389 - acc: 0.9879 - val_loss: 0.0264 - val_acc: 0.9910\n",
      "Epoch 5/12\n",
      "60000/60000 [==============================] - 326s 5ms/step - loss: 0.0327 - acc: 0.9893 - val_loss: 0.0237 - val_acc: 0.9923\n",
      "Epoch 6/12\n",
      "60000/60000 [==============================] - 325s 5ms/step - loss: 0.0274 - acc: 0.9910 - val_loss: 0.0233 - val_acc: 0.9923\n",
      "Epoch 7/12\n",
      "60000/60000 [==============================] - 327s 5ms/step - loss: 0.0238 - acc: 0.9919 - val_loss: 0.0237 - val_acc: 0.9925\n",
      "Epoch 8/12\n",
      "60000/60000 [==============================] - 325s 5ms/step - loss: 0.0218 - acc: 0.9925 - val_loss: 0.0203 - val_acc: 0.9929\n",
      "Epoch 9/12\n",
      "60000/60000 [==============================] - 327s 5ms/step - loss: 0.0201 - acc: 0.9940 - val_loss: 0.0247 - val_acc: 0.9920\n",
      "Epoch 10/12\n",
      "60000/60000 [==============================] - 326s 5ms/step - loss: 0.0205 - acc: 0.9931 - val_loss: 0.0195 - val_acc: 0.9928\n",
      "Epoch 11/12\n",
      "60000/60000 [==============================] - 329s 5ms/step - loss: 0.0164 - acc: 0.9946 - val_loss: 0.0249 - val_acc: 0.9925\n",
      "Epoch 12/12\n",
      "60000/60000 [==============================] - 325s 5ms/step - loss: 0.0152 - acc: 0.9950 - val_loss: 0.0229 - val_acc: 0.9932\n"
     ]
    }
   ],
   "source": [
    "from keras.optimizers import Adagrad\n",
    "model.compile(loss='categorical_crossentropy',\n",
    "              optimizer='adam',\n",
    "              metrics=['accuracy'])\n",
    "history=model.fit(x_train, y_train,\n",
    "          batch_size=batch_size,\n",
    "          epochs=epochs,\n",
    "          verbose=1,\n",
    "          validation_data=(x_test, y_test))"
   ]
  },
  {
   "cell_type": "code",
   "execution_count": 0,
   "metadata": {
    "colab": {
     "base_uri": "https://localhost:8080/",
     "height": 317
    },
    "colab_type": "code",
    "id": "IKpNEsZBeS5z",
    "outputId": "0c993815-77ef-42c9-f843-bf379676b383"
   },
   "outputs": [
    {
     "name": "stdout",
     "output_type": "stream",
     "text": [
      "Test score: 0.022885850649204075\n",
      "Test accuracy: 0.9932\n"
     ]
    },
    {
     "data": {
      "image/png": "[encoded data removed]",
      "text/plain": [
       "<Figure size 432x288 with 1 Axes>"
      ]
     },
     "metadata": {
      "tags": []
     },
     "output_type": "display_data"
    }
   ],
   "source": [
    "score = model.evaluate(x_test, y_test, verbose=0) \n",
    "print('Test score:', score[0]) \n",
    "print('Test accuracy:', score[1])\n",
    "\n",
    "fig,ax = plt.subplots(1,1)\n",
    "ax.set_xlabel('epoch') ; ax.set_ylabel('Categorical Crossentropy Loss')\n",
    "\n",
    "# list of epoch numbers\n",
    "x = list(range(1,epochs+1))\n",
    "\n",
    "#Training loss\n",
    "vy = history.history['val_loss']\n",
    "ty = history.history['loss']\n",
    "plt_dynamic(x, vy, ty, ax)"
   ]
  },
  {
   "cell_type": "code",
   "execution_count": 0,
   "metadata": {
    "colab": {
     "base_uri": "https://localhost:8080/",
     "height": 510
    },
    "colab_type": "code",
    "id": "35-bOqPxs1a9",
    "outputId": "bf876395-3a86-46d3-95ef-2d41c68505bf"
   },
   "outputs": [
    {
     "name": "stdout",
     "output_type": "stream",
     "text": [
      "_________________________________________________________________\n",
      "Layer (type)                 Output Shape              Param #   \n",
      "=================================================================\n",
      "conv2d_75 (Conv2D)           (None, 28, 28, 16)        416       \n",
      "_________________________________________________________________\n",
      "conv2d_76 (Conv2D)           (None, 24, 24, 24)        9624      \n",
      "_________________________________________________________________\n",
      "conv2d_77 (Conv2D)           (None, 20, 20, 30)        18030     \n",
      "_________________________________________________________________\n",
      "max_pooling2d_21 (MaxPooling (None, 10, 10, 30)        0         \n",
      "_________________________________________________________________\n",
      "conv2d_78 (Conv2D)           (None, 6, 6, 32)          24032     \n",
      "_________________________________________________________________\n",
      "conv2d_79 (Conv2D)           (None, 2, 2, 54)          43254     \n",
      "_________________________________________________________________\n",
      "max_pooling2d_22 (MaxPooling (None, 1, 1, 54)          0         \n",
      "_________________________________________________________________\n",
      "dropout_10 (Dropout)         (None, 1, 1, 54)          0         \n",
      "_________________________________________________________________\n",
      "flatten_9 (Flatten)          (None, 54)                0         \n",
      "_________________________________________________________________\n",
      "dense_17 (Dense)             (None, 128)               7040      \n",
      "_________________________________________________________________\n",
      "dense_18 (Dense)             (None, 10)                1290      \n",
      "=================================================================\n",
      "Total params: 103,686\n",
      "Trainable params: 103,686\n",
      "Non-trainable params: 0\n",
      "_________________________________________________________________\n"
     ]
    }
   ],
   "source": [
    "#Building a 5 Convolution layer Convnet Model\n",
    "from keras.layers.normalization import BatchNormalization\n",
    "from keras.layers import Dropout\n",
    "from keras import backend as K\n",
    "from keras.initializers import he_normal\n",
    "\n",
    "model_5=Sequential()\n",
    "model_5.add(Conv2D(16, kernel_size=(5, 5),\n",
    "                 activation='relu',\n",
    "                 kernel_initializer=he_normal(seed=None),padding='same',input_shape=input_shape))\n",
    "model_5.add(Conv2D(24, kernel_size=(5, 5),activation='relu'))\n",
    "model_5.add(Conv2D(30, kernel_size=(5, 5),activation='relu'))\n",
    "model_5.add(MaxPooling2D(pool_size=(2, 2)))\n",
    "\n",
    "model_5.add(Conv2D(32, kernel_size=(5, 5),activation='relu'))\n",
    "model_5.add(Conv2D(54, kernel_size=(5, 5),activation='relu'))\n",
    "model_5.add(MaxPooling2D(pool_size=(2, 2)))\n",
    "\n",
    "model_5.add(Dropout(0.5))\n",
    "model_5.add(Flatten())\n",
    "model_5.add(Dense(128, activation='relu'))\n",
    "model_5.add(Dense(num_classes, activation='softmax'))\n",
    "\n",
    "model_5.summary()"
   ]
  },
  {
   "cell_type": "code",
   "execution_count": 0,
   "metadata": {
    "colab": {
     "base_uri": "https://localhost:8080/",
     "height": 442
    },
    "colab_type": "code",
    "id": "de47v_argb69",
    "outputId": "95c2559f-004e-4606-859b-f3f3cc962664"
   },
   "outputs": [
    {
     "name": "stdout",
     "output_type": "stream",
     "text": [
      "Train on 60000 samples, validate on 10000 samples\n",
      "Epoch 1/12\n",
      "60000/60000 [==============================] - 262s 4ms/step - loss: 0.3572 - acc: 0.8849 - val_loss: 0.0552 - val_acc: 0.9848\n",
      "Epoch 2/12\n",
      "60000/60000 [==============================] - 261s 4ms/step - loss: 0.1129 - acc: 0.9679 - val_loss: 0.0360 - val_acc: 0.9896\n",
      "Epoch 3/12\n",
      "60000/60000 [==============================] - 261s 4ms/step - loss: 0.0861 - acc: 0.9756 - val_loss: 0.0264 - val_acc: 0.9910\n",
      "Epoch 4/12\n",
      "60000/60000 [==============================] - 262s 4ms/step - loss: 0.0701 - acc: 0.9806 - val_loss: 0.0331 - val_acc: 0.9899\n",
      "Epoch 5/12\n",
      "60000/60000 [==============================] - 260s 4ms/step - loss: 0.0579 - acc: 0.9836 - val_loss: 0.0297 - val_acc: 0.9914\n",
      "Epoch 6/12\n",
      "60000/60000 [==============================] - 260s 4ms/step - loss: 0.0536 - acc: 0.9847 - val_loss: 0.0304 - val_acc: 0.9916\n",
      "Epoch 7/12\n",
      "60000/60000 [==============================] - 260s 4ms/step - loss: 0.0456 - acc: 0.9875 - val_loss: 0.0264 - val_acc: 0.9932\n",
      "Epoch 8/12\n",
      "60000/60000 [==============================] - 260s 4ms/step - loss: 0.0394 - acc: 0.9892 - val_loss: 0.0257 - val_acc: 0.9927\n",
      "Epoch 9/12\n",
      "60000/60000 [==============================] - 260s 4ms/step - loss: 0.0377 - acc: 0.9891 - val_loss: 0.0233 - val_acc: 0.9935\n",
      "Epoch 10/12\n",
      "60000/60000 [==============================] - 260s 4ms/step - loss: 0.0333 - acc: 0.9900 - val_loss: 0.0249 - val_acc: 0.9931\n",
      "Epoch 11/12\n",
      "60000/60000 [==============================] - 260s 4ms/step - loss: 0.0307 - acc: 0.9913 - val_loss: 0.0237 - val_acc: 0.9933\n",
      "Epoch 12/12\n",
      "60000/60000 [==============================] - 260s 4ms/step - loss: 0.0282 - acc: 0.9921 - val_loss: 0.0247 - val_acc: 0.9934\n"
     ]
    }
   ],
   "source": [
    "from keras.optimizers import Adagrad\n",
    "model_5.compile(loss='categorical_crossentropy',\n",
    "              optimizer='adam',\n",
    "              metrics=['accuracy'])\n",
    "history_5=model_5.fit(x_train, y_train,\n",
    "          batch_size=batch_size,\n",
    "          epochs=epochs,\n",
    "          verbose=1,\n",
    "          validation_data=(x_test, y_test))"
   ]
  },
  {
   "cell_type": "code",
   "execution_count": 0,
   "metadata": {
    "colab": {
     "base_uri": "https://localhost:8080/",
     "height": 317
    },
    "colab_type": "code",
    "id": "Je8TZVib8x4U",
    "outputId": "839e0eb3-4a93-4c50-ab78-7d69a1a65899"
   },
   "outputs": [
    {
     "name": "stdout",
     "output_type": "stream",
     "text": [
      "Test score: 0.02466107032220057\n",
      "Test accuracy: 0.9934\n"
     ]
    },
    {
     "data": {
      "image/png": "[encoded data removed]",
      "text/plain": [
       "<Figure size 432x288 with 1 Axes>"
      ]
     },
     "metadata": {
      "tags": []
     },
     "output_type": "display_data"
    }
   ],
   "source": [
    "score = model_5.evaluate(x_test, y_test, verbose=0) \n",
    "print('Test score:', score[0]) \n",
    "print('Test accuracy:', score[1])\n",
    "\n",
    "fig,ax = plt.subplots(1,1)\n",
    "ax.set_xlabel('epoch') ; ax.set_ylabel('Categorical Crossentropy Loss')\n",
    "\n",
    "# list of epoch numbers\n",
    "x = list(range(1,epochs+1))\n",
    "\n",
    "#Training loss\n",
    "vy = history_5.history['val_loss']\n",
    "ty = history_5.history['loss']\n",
    "plt_dynamic(x, vy, ty, ax)"
   ]
  },
  {
   "cell_type": "code",
   "execution_count": 0,
   "metadata": {
    "colab": {
     "base_uri": "https://localhost:8080/",
     "height": 578
    },
    "colab_type": "code",
    "id": "uK5bl7PHzUP2",
    "outputId": "e640d7d2-9574-416e-dace-29ad04fa2bbc"
   },
   "outputs": [
    {
     "name": "stdout",
     "output_type": "stream",
     "text": [
      "_________________________________________________________________\n",
      "Layer (type)                 Output Shape              Param #   \n",
      "=================================================================\n",
      "conv2d_114 (Conv2D)          (None, 28, 28, 16)        80        \n",
      "_________________________________________________________________\n",
      "conv2d_115 (Conv2D)          (None, 27, 27, 22)        1430      \n",
      "_________________________________________________________________\n",
      "conv2d_116 (Conv2D)          (None, 26, 26, 28)        2492      \n",
      "_________________________________________________________________\n",
      "max_pooling2d_30 (MaxPooling (None, 13, 13, 28)        0         \n",
      "_________________________________________________________________\n",
      "conv2d_117 (Conv2D)          (None, 13, 13, 32)        3616      \n",
      "_________________________________________________________________\n",
      "conv2d_118 (Conv2D)          (None, 12, 12, 40)        5160      \n",
      "_________________________________________________________________\n",
      "conv2d_119 (Conv2D)          (None, 11, 11, 50)        8050      \n",
      "_________________________________________________________________\n",
      "conv2d_120 (Conv2D)          (None, 10, 10, 64)        12864     \n",
      "_________________________________________________________________\n",
      "max_pooling2d_31 (MaxPooling (None, 5, 5, 64)          0         \n",
      "_________________________________________________________________\n",
      "dropout_12 (Dropout)         (None, 5, 5, 64)          0         \n",
      "_________________________________________________________________\n",
      "flatten_11 (Flatten)         (None, 1600)              0         \n",
      "_________________________________________________________________\n",
      "dense_21 (Dense)             (None, 128)               204928    \n",
      "_________________________________________________________________\n",
      "dense_22 (Dense)             (None, 10)                1290      \n",
      "=================================================================\n",
      "Total params: 239,910\n",
      "Trainable params: 239,910\n",
      "Non-trainable params: 0\n",
      "_________________________________________________________________\n"
     ]
    }
   ],
   "source": [
    "#Building a 7 Convolution layer Convnet Model\n",
    "from keras.layers.normalization import BatchNormalization\n",
    "from keras.layers import Dropout\n",
    "from keras.layers import Convolution2D\n",
    "from keras import backend as K\n",
    "from keras.initializers import he_normal\n",
    "\n",
    "model_7=Sequential()\n",
    "model_7.add(Convolution2D(16, kernel_size=(2, 2),\n",
    "                 activation='relu',\n",
    "                 kernel_initializer=he_normal(seed=None),padding='same',input_shape=input_shape))\n",
    "model_7.add(Convolution2D(22, kernel_size=(2, 2),activation='relu'))\n",
    "model_7.add(Convolution2D(28, kernel_size=(2, 2),activation='relu'))\n",
    "model_7.add(MaxPooling2D(pool_size=(2, 2)))\n",
    "\n",
    "model_7.add(Convolution2D(32, kernel_size=(2, 2),padding='same',activation='relu'))\n",
    "model_7.add(Convolution2D(40, kernel_size=(2, 2),activation='relu'))\n",
    "model_7.add(Convolution2D(50, kernel_size=(2, 2),activation='relu'))\n",
    "model_7.add(Convolution2D(64, kernel_size=(2, 2),activation='relu'))\n",
    "model_7.add(MaxPooling2D(pool_size=(2, 2)))\n",
    "\n",
    "model_7.add(Dropout(0.5))\n",
    "model_7.add(Flatten())\n",
    "model_7.add(Dense(128, activation='relu'))\n",
    "model_7.add(Dense(num_classes, activation='softmax'))\n",
    "\n",
    "model_7.summary()"
   ]
  },
  {
   "cell_type": "code",
   "execution_count": 0,
   "metadata": {
    "colab": {
     "base_uri": "https://localhost:8080/",
     "height": 442
    },
    "colab_type": "code",
    "id": "lIXml7Bt0HG2",
    "outputId": "91045ae6-c0ee-4306-d45a-98d63aa893e1"
   },
   "outputs": [
    {
     "name": "stdout",
     "output_type": "stream",
     "text": [
      "Train on 60000 samples, validate on 10000 samples\n",
      "Epoch 1/12\n",
      "60000/60000 [==============================] - 159s 3ms/step - loss: 0.2129 - acc: 0.9320 - val_loss: 0.0458 - val_acc: 0.9848\n",
      "Epoch 2/12\n",
      "60000/60000 [==============================] - 157s 3ms/step - loss: 0.0629 - acc: 0.9810 - val_loss: 0.0625 - val_acc: 0.9795\n",
      "Epoch 3/12\n",
      "60000/60000 [==============================] - 159s 3ms/step - loss: 0.0472 - acc: 0.9854 - val_loss: 0.0247 - val_acc: 0.9923\n",
      "Epoch 4/12\n",
      "60000/60000 [==============================] - 158s 3ms/step - loss: 0.0389 - acc: 0.9877 - val_loss: 0.0232 - val_acc: 0.9916\n",
      "Epoch 5/12\n",
      "60000/60000 [==============================] - 157s 3ms/step - loss: 0.0335 - acc: 0.9893 - val_loss: 0.0241 - val_acc: 0.9930\n",
      "Epoch 6/12\n",
      "60000/60000 [==============================] - 156s 3ms/step - loss: 0.0287 - acc: 0.9906 - val_loss: 0.0191 - val_acc: 0.9932\n",
      "Epoch 7/12\n",
      "60000/60000 [==============================] - 159s 3ms/step - loss: 0.0267 - acc: 0.9916 - val_loss: 0.0207 - val_acc: 0.9926\n",
      "Epoch 8/12\n",
      "60000/60000 [==============================] - 158s 3ms/step - loss: 0.0236 - acc: 0.9924 - val_loss: 0.0177 - val_acc: 0.9945\n",
      "Epoch 9/12\n",
      "60000/60000 [==============================] - 156s 3ms/step - loss: 0.0234 - acc: 0.9921 - val_loss: 0.0197 - val_acc: 0.9932\n",
      "Epoch 10/12\n",
      "60000/60000 [==============================] - 156s 3ms/step - loss: 0.0200 - acc: 0.9937 - val_loss: 0.0186 - val_acc: 0.9938\n",
      "Epoch 11/12\n",
      "60000/60000 [==============================] - 157s 3ms/step - loss: 0.0195 - acc: 0.9934 - val_loss: 0.0228 - val_acc: 0.9923\n",
      "Epoch 12/12\n",
      "60000/60000 [==============================] - 159s 3ms/step - loss: 0.0179 - acc: 0.9941 - val_loss: 0.0208 - val_acc: 0.9939\n"
     ]
    }
   ],
   "source": [
    "from keras.optimizers import Adagrad\n",
    "model_7.compile(loss='categorical_crossentropy',\n",
    "              optimizer='adam',\n",
    "              metrics=['accuracy'])\n",
    "history_7=model_7.fit(x_train, y_train,\n",
    "          batch_size=batch_size,\n",
    "          epochs=epochs,\n",
    "          verbose=1,\n",
    "          validation_data=(x_test, y_test))"
   ]
  },
  {
   "cell_type": "code",
   "execution_count": 0,
   "metadata": {
    "colab": {
     "base_uri": "https://localhost:8080/",
     "height": 317
    },
    "colab_type": "code",
    "id": "42i03yGf2uR0",
    "outputId": "f972757f-2770-4915-ea2d-85ae2a7eac26"
   },
   "outputs": [
    {
     "name": "stdout",
     "output_type": "stream",
     "text": [
      "Test score: 0.020760127860461036\n",
      "Test accuracy: 0.9939\n"
     ]
    },
    {
     "data": {
      "image/png": "[encoded data removed]",
      "text/plain": [
       "<Figure size 432x288 with 1 Axes>"
      ]
     },
     "metadata": {
      "tags": []
     },
     "output_type": "display_data"
    }
   ],
   "source": [
    "score = model_7.evaluate(x_test, y_test, verbose=0) \n",
    "print('Test score:', score[0]) \n",
    "print('Test accuracy:', score[1])\n",
    "\n",
    "fig,ax = plt.subplots(1,1)\n",
    "ax.set_xlabel('epoch') ; ax.set_ylabel('Categorical Crossentropy Loss')\n",
    "\n",
    "# list of epoch numbers\n",
    "x = list(range(1,epochs+1))\n",
    "\n",
    "#Training loss\n",
    "vy = history_7.history['val_loss']\n",
    "ty = history_7.history['loss']\n",
    "plt_dynamic(x, vy, ty, ax)"
   ]
  },
  {
   "cell_type": "code",
   "execution_count": 12,
   "metadata": {
    "colab": {
     "base_uri": "https://localhost:8080/",
     "height": 408
    },
    "colab_type": "code",
    "id": "P1_0KL4z9854",
    "outputId": "5c1e8c32-ee36-4362-9371-775b4c63c75e"
   },
   "outputs": [
    {
     "name": "stdout",
     "output_type": "stream",
     "text": [
      "_________________________________________________________________\n",
      "Layer (type)                 Output Shape              Param #   \n",
      "=================================================================\n",
      "conv2d_4 (Conv2D)            (None, 28, 28, 64)        640       \n",
      "_________________________________________________________________\n",
      "conv2d_5 (Conv2D)            (None, 28, 28, 32)        18464     \n",
      "_________________________________________________________________\n",
      "conv2d_6 (Conv2D)            (None, 28, 28, 16)        4624      \n",
      "_________________________________________________________________\n",
      "max_pooling2d_2 (MaxPooling2 (None, 14, 14, 16)        0         \n",
      "_________________________________________________________________\n",
      "dropout_2 (Dropout)          (None, 14, 14, 16)        0         \n",
      "_________________________________________________________________\n",
      "flatten_2 (Flatten)          (None, 3136)              0         \n",
      "_________________________________________________________________\n",
      "dense_3 (Dense)              (None, 128)               401536    \n",
      "_________________________________________________________________\n",
      "dense_4 (Dense)              (None, 10)                1290      \n",
      "=================================================================\n",
      "Total params: 426,554\n",
      "Trainable params: 426,554\n",
      "Non-trainable params: 0\n",
      "_________________________________________________________________\n"
     ]
    }
   ],
   "source": [
    "#Building a 3 Convolution layer Convnet Model with dropout rate=0.2\n",
    "from keras.layers.normalization import BatchNormalization\n",
    "from keras.layers import Dropout\n",
    "from keras import backend as K\n",
    "from keras.initializers import he_normal\n",
    "model_dr=Sequential()\n",
    "model_dr.add(Conv2D(64, kernel_size=(3, 3),\n",
    "                 activation='relu',padding='same',\n",
    "                 kernel_initializer=he_normal(seed=None),input_shape=input_shape))\n",
    "model_dr.add(Conv2D(32, kernel_size=(3, 3),padding='same',activation='relu'))\n",
    "model_dr.add(Conv2D(16, kernel_size=(3, 3),activation='relu',padding='same'))\n",
    "model_dr.add(MaxPooling2D(pool_size=(2, 2)))\n",
    "\n",
    "model_dr.add(Dropout(0.2))\n",
    "model_dr.add(Flatten())\n",
    "model_dr.add(Dense(128, activation='relu'))\n",
    "model_dr.add(Dense(num_classes, activation='softmax'))\n",
    "\n",
    "model_dr.summary()"
   ]
  },
  {
   "cell_type": "code",
   "execution_count": 0,
   "metadata": {
    "colab": {},
    "colab_type": "code",
    "id": "dP1CmzOyqQ4t"
   },
   "outputs": [],
   "source": []
  },
  {
   "cell_type": "code",
   "execution_count": 13,
   "metadata": {
    "colab": {
     "base_uri": "https://localhost:8080/",
     "height": 513
    },
    "colab_type": "code",
    "id": "ZMod4pzvp9gL",
    "outputId": "ccbdc2ce-fa7a-484e-99f5-a5b2378fe482"
   },
   "outputs": [
    {
     "name": "stdout",
     "output_type": "stream",
     "text": [
      "WARNING:tensorflow:From /usr/local/lib/python3.6/dist-packages/tensorflow/python/ops/math_ops.py:3066: to_int32 (from tensorflow.python.ops.math_ops) is deprecated and will be removed in a future version.\n",
      "Instructions for updating:\n",
      "Use tf.cast instead.\n",
      "Train on 60000 samples, validate on 10000 samples\n",
      "Epoch 1/12\n",
      "60000/60000 [==============================] - 335s 6ms/step - loss: 0.4301 - acc: 0.8712 - val_loss: 0.1565 - val_acc: 0.9509\n",
      "Epoch 2/12\n",
      "60000/60000 [==============================] - 329s 5ms/step - loss: 0.1333 - acc: 0.9601 - val_loss: 0.0754 - val_acc: 0.9762\n",
      "Epoch 3/12\n",
      "60000/60000 [==============================] - 327s 5ms/step - loss: 0.0808 - acc: 0.9748 - val_loss: 0.0558 - val_acc: 0.9825\n",
      "Epoch 4/12\n",
      "60000/60000 [==============================] - 327s 5ms/step - loss: 0.0592 - acc: 0.9815 - val_loss: 0.0489 - val_acc: 0.9846\n",
      "Epoch 5/12\n",
      "60000/60000 [==============================] - 327s 5ms/step - loss: 0.0470 - acc: 0.9853 - val_loss: 0.0417 - val_acc: 0.9859\n",
      "Epoch 6/12\n",
      "60000/60000 [==============================] - 326s 5ms/step - loss: 0.0384 - acc: 0.9881 - val_loss: 0.0392 - val_acc: 0.9878\n",
      "Epoch 7/12\n",
      "60000/60000 [==============================] - 326s 5ms/step - loss: 0.0317 - acc: 0.9903 - val_loss: 0.0382 - val_acc: 0.9882\n",
      "Epoch 8/12\n",
      "60000/60000 [==============================] - 326s 5ms/step - loss: 0.0280 - acc: 0.9914 - val_loss: 0.0357 - val_acc: 0.9891\n",
      "Epoch 9/12\n",
      "60000/60000 [==============================] - 326s 5ms/step - loss: 0.0239 - acc: 0.9920 - val_loss: 0.0379 - val_acc: 0.9883\n",
      "Epoch 10/12\n",
      "60000/60000 [==============================] - 326s 5ms/step - loss: 0.0213 - acc: 0.9928 - val_loss: 0.0364 - val_acc: 0.9887\n",
      "Epoch 11/12\n",
      "60000/60000 [==============================] - 325s 5ms/step - loss: 0.0182 - acc: 0.9940 - val_loss: 0.0362 - val_acc: 0.9891\n",
      "Epoch 12/12\n",
      "60000/60000 [==============================] - 326s 5ms/step - loss: 0.0167 - acc: 0.9944 - val_loss: 0.0304 - val_acc: 0.9906\n"
     ]
    }
   ],
   "source": [
    "from keras.optimizers import Adagrad\n",
    "model_dr.compile(loss='categorical_crossentropy',\n",
    "              optimizer='adam',\n",
    "              metrics=['accuracy'])\n",
    "history_dr=model_dr.fit(x_train, y_train,\n",
    "          batch_size=batch_size,\n",
    "          epochs=epochs,\n",
    "          verbose=1,\n",
    "          validation_data=(x_test, y_test))"
   ]
  },
  {
   "cell_type": "code",
   "execution_count": 14,
   "metadata": {
    "colab": {
     "base_uri": "https://localhost:8080/",
     "height": 317
    },
    "colab_type": "code",
    "id": "6LCyraLTqW5u",
    "outputId": "246c1b93-b98a-433c-d107-0679b7f04e18"
   },
   "outputs": [
    {
     "name": "stdout",
     "output_type": "stream",
     "text": [
      "Test score: 0.03041493865268567\n",
      "Test accuracy: 0.9906\n"
     ]
    },
    {
     "data": {
      "image/png": "[encoded data removed]",
      "text/plain": [
       "<Figure size 432x288 with 1 Axes>"
      ]
     },
     "metadata": {
      "tags": []
     },
     "output_type": "display_data"
    }
   ],
   "source": [
    "score = model_dr.evaluate(x_test, y_test, verbose=0) \n",
    "print('Test score:', score[0]) \n",
    "print('Test accuracy:', score[1])\n",
    "\n",
    "fig,ax = plt.subplots(1,1)\n",
    "ax.set_xlabel('epoch') ; ax.set_ylabel('Categorical Crossentropy Loss')\n",
    "\n",
    "# list of epoch numbers\n",
    "x = list(range(1,epochs+1))\n",
    "\n",
    "#Training loss\n",
    "vy = history_dr.history['val_loss']\n",
    "ty = history_dr.history['loss']\n",
    "plt_dynamic(x, vy, ty, ax)"
   ]
  },
  {
   "cell_type": "code",
   "execution_count": 16,
   "metadata": {
    "colab": {
     "base_uri": "https://localhost:8080/",
     "height": 510
    },
    "colab_type": "code",
    "id": "BM8XL6s5qdWh",
    "outputId": "a926513f-9664-4242-9c66-7c1bfa7142f1"
   },
   "outputs": [
    {
     "name": "stdout",
     "output_type": "stream",
     "text": [
      "_________________________________________________________________\n",
      "Layer (type)                 Output Shape              Param #   \n",
      "=================================================================\n",
      "conv2d_12 (Conv2D)           (None, 28, 28, 16)        416       \n",
      "_________________________________________________________________\n",
      "conv2d_13 (Conv2D)           (None, 24, 24, 24)        9624      \n",
      "_________________________________________________________________\n",
      "conv2d_14 (Conv2D)           (None, 20, 20, 30)        18030     \n",
      "_________________________________________________________________\n",
      "max_pooling2d_5 (MaxPooling2 (None, 10, 10, 30)        0         \n",
      "_________________________________________________________________\n",
      "conv2d_15 (Conv2D)           (None, 6, 6, 32)          24032     \n",
      "_________________________________________________________________\n",
      "conv2d_16 (Conv2D)           (None, 2, 2, 54)          43254     \n",
      "_________________________________________________________________\n",
      "max_pooling2d_6 (MaxPooling2 (None, 1, 1, 54)          0         \n",
      "_________________________________________________________________\n",
      "dropout_4 (Dropout)          (None, 1, 1, 54)          0         \n",
      "_________________________________________________________________\n",
      "flatten_4 (Flatten)          (None, 54)                0         \n",
      "_________________________________________________________________\n",
      "dense_7 (Dense)              (None, 128)               7040      \n",
      "_________________________________________________________________\n",
      "dense_8 (Dense)              (None, 10)                1290      \n",
      "=================================================================\n",
      "Total params: 103,686\n",
      "Trainable params: 103,686\n",
      "Non-trainable params: 0\n",
      "_________________________________________________________________\n"
     ]
    }
   ],
   "source": [
    "#Building a 5 Convolution layer Convnet Model\n",
    "from keras.layers.normalization import BatchNormalization\n",
    "from keras.layers import Dropout\n",
    "from keras import backend as K\n",
    "from keras.initializers import he_normal\n",
    "\n",
    "model_5_dr=Sequential()\n",
    "model_5_dr.add(Conv2D(16, kernel_size=(5, 5),\n",
    "                 activation='relu',\n",
    "                 kernel_initializer=he_normal(seed=None),padding='same',input_shape=input_shape))\n",
    "model_5_dr.add(Conv2D(24, kernel_size=(5, 5),activation='relu'))\n",
    "model_5_dr.add(Conv2D(30, kernel_size=(5, 5),activation='relu'))\n",
    "model_5_dr.add(MaxPooling2D(pool_size=(2, 2)))\n",
    "\n",
    "model_5_dr.add(Conv2D(32, kernel_size=(5, 5),activation='relu'))\n",
    "model_5_dr.add(Conv2D(54, kernel_size=(5, 5),activation='relu'))\n",
    "model_5_dr.add(MaxPooling2D(pool_size=(2, 2)))\n",
    "\n",
    "model_5_dr.add(Dropout(0.2))\n",
    "model_5_dr.add(Flatten())\n",
    "model_5_dr.add(Dense(128, activation='relu'))\n",
    "model_5_dr.add(Dense(num_classes, activation='softmax'))\n",
    "\n",
    "model_5_dr.summary()"
   ]
  },
  {
   "cell_type": "code",
   "execution_count": 17,
   "metadata": {
    "colab": {
     "base_uri": "https://localhost:8080/",
     "height": 442
    },
    "colab_type": "code",
    "id": "_kvtF73p6W8_",
    "outputId": "24d03d7c-9900-48fe-b277-183186a304a6"
   },
   "outputs": [
    {
     "name": "stdout",
     "output_type": "stream",
     "text": [
      "Train on 60000 samples, validate on 10000 samples\n",
      "Epoch 1/12\n",
      "60000/60000 [==============================] - 266s 4ms/step - loss: 0.5271 - acc: 0.8220 - val_loss: 0.1191 - val_acc: 0.9625\n",
      "Epoch 2/12\n",
      "60000/60000 [==============================] - 265s 4ms/step - loss: 0.1410 - acc: 0.9570 - val_loss: 0.0838 - val_acc: 0.9733\n",
      "Epoch 3/12\n",
      "60000/60000 [==============================] - 266s 4ms/step - loss: 0.0941 - acc: 0.9715 - val_loss: 0.0514 - val_acc: 0.9841\n",
      "Epoch 4/12\n",
      "60000/60000 [==============================] - 265s 4ms/step - loss: 0.0718 - acc: 0.9785 - val_loss: 0.0509 - val_acc: 0.9852\n",
      "Epoch 5/12\n",
      "60000/60000 [==============================] - 264s 4ms/step - loss: 0.0612 - acc: 0.9823 - val_loss: 0.0491 - val_acc: 0.9849\n",
      "Epoch 6/12\n",
      "60000/60000 [==============================] - 266s 4ms/step - loss: 0.0527 - acc: 0.9845 - val_loss: 0.0386 - val_acc: 0.9886\n",
      "Epoch 7/12\n",
      "60000/60000 [==============================] - 266s 4ms/step - loss: 0.0469 - acc: 0.9860 - val_loss: 0.0374 - val_acc: 0.9897\n",
      "Epoch 8/12\n",
      "60000/60000 [==============================] - 264s 4ms/step - loss: 0.0412 - acc: 0.9873 - val_loss: 0.0356 - val_acc: 0.9909\n",
      "Epoch 9/12\n",
      "60000/60000 [==============================] - 264s 4ms/step - loss: 0.0380 - acc: 0.9882 - val_loss: 0.0312 - val_acc: 0.9904\n",
      "Epoch 10/12\n",
      "60000/60000 [==============================] - 265s 4ms/step - loss: 0.0344 - acc: 0.9893 - val_loss: 0.0373 - val_acc: 0.9895\n",
      "Epoch 11/12\n",
      "60000/60000 [==============================] - 264s 4ms/step - loss: 0.0323 - acc: 0.9900 - val_loss: 0.0317 - val_acc: 0.9908\n",
      "Epoch 12/12\n",
      "60000/60000 [==============================] - 265s 4ms/step - loss: 0.0301 - acc: 0.9910 - val_loss: 0.0295 - val_acc: 0.9918\n"
     ]
    }
   ],
   "source": [
    "from keras.optimizers import Adagrad\n",
    "model_5_dr.compile(loss='categorical_crossentropy',\n",
    "              optimizer='adam',\n",
    "              metrics=['accuracy'])\n",
    "history_5_dr=model_5_dr.fit(x_train, y_train,\n",
    "          batch_size=batch_size,\n",
    "          epochs=epochs,\n",
    "          verbose=1,\n",
    "          validation_data=(x_test, y_test))"
   ]
  },
  {
   "cell_type": "code",
   "execution_count": 18,
   "metadata": {
    "colab": {
     "base_uri": "https://localhost:8080/",
     "height": 317
    },
    "colab_type": "code",
    "id": "s3fQIU-a6mnQ",
    "outputId": "3bc14f43-6959-45d2-aefa-3a297cd9309f"
   },
   "outputs": [
    {
     "name": "stdout",
     "output_type": "stream",
     "text": [
      "Test score: 0.029510731686325745\n",
      "Test accuracy: 0.9918\n"
     ]
    },
    {
     "data": {
      "image/png": "[encoded data removed]",
      "text/plain": [
       "<Figure size 432x288 with 1 Axes>"
      ]
     },
     "metadata": {
      "tags": []
     },
     "output_type": "display_data"
    }
   ],
   "source": [
    "score = model_5_dr.evaluate(x_test, y_test, verbose=0) \n",
    "print('Test score:', score[0]) \n",
    "print('Test accuracy:', score[1])\n",
    "\n",
    "fig,ax = plt.subplots(1,1)\n",
    "ax.set_xlabel('epoch') ; ax.set_ylabel('Categorical Crossentropy Loss')\n",
    "\n",
    "# list of epoch numbers\n",
    "x = list(range(1,epochs+1))\n",
    "\n",
    "#Training loss\n",
    "vy = history_5_dr.history['val_loss']\n",
    "ty = history_5_dr.history['loss']\n",
    "plt_dynamic(x, vy, ty, ax)"
   ]
  },
  {
   "cell_type": "code",
   "execution_count": 19,
   "metadata": {
    "colab": {
     "base_uri": "https://localhost:8080/",
     "height": 578
    },
    "colab_type": "code",
    "id": "_Ni-0K8AGwSa",
    "outputId": "23f1d985-a1ef-45c9-f940-3287fd6b64fd"
   },
   "outputs": [
    {
     "name": "stdout",
     "output_type": "stream",
     "text": [
      "_________________________________________________________________\n",
      "Layer (type)                 Output Shape              Param #   \n",
      "=================================================================\n",
      "conv2d_17 (Conv2D)           (None, 28, 28, 16)        80        \n",
      "_________________________________________________________________\n",
      "conv2d_18 (Conv2D)           (None, 27, 27, 22)        1430      \n",
      "_________________________________________________________________\n",
      "conv2d_19 (Conv2D)           (None, 26, 26, 28)        2492      \n",
      "_________________________________________________________________\n",
      "max_pooling2d_7 (MaxPooling2 (None, 13, 13, 28)        0         \n",
      "_________________________________________________________________\n",
      "conv2d_20 (Conv2D)           (None, 13, 13, 32)        3616      \n",
      "_________________________________________________________________\n",
      "conv2d_21 (Conv2D)           (None, 12, 12, 40)        5160      \n",
      "_________________________________________________________________\n",
      "conv2d_22 (Conv2D)           (None, 11, 11, 50)        8050      \n",
      "_________________________________________________________________\n",
      "conv2d_23 (Conv2D)           (None, 10, 10, 64)        12864     \n",
      "_________________________________________________________________\n",
      "max_pooling2d_8 (MaxPooling2 (None, 5, 5, 64)          0         \n",
      "_________________________________________________________________\n",
      "dropout_5 (Dropout)          (None, 5, 5, 64)          0         \n",
      "_________________________________________________________________\n",
      "flatten_5 (Flatten)          (None, 1600)              0         \n",
      "_________________________________________________________________\n",
      "dense_9 (Dense)              (None, 128)               204928    \n",
      "_________________________________________________________________\n",
      "dense_10 (Dense)             (None, 10)                1290      \n",
      "=================================================================\n",
      "Total params: 239,910\n",
      "Trainable params: 239,910\n",
      "Non-trainable params: 0\n",
      "_________________________________________________________________\n"
     ]
    }
   ],
   "source": [
    "#Building a 7 Convolution layer Convnet Model\n",
    "from keras.layers.normalization import BatchNormalization\n",
    "from keras.layers import Dropout\n",
    "from keras.layers import Convolution2D\n",
    "from keras import backend as K\n",
    "from keras.initializers import he_normal\n",
    "\n",
    "model_7_dr=Sequential()\n",
    "model_7_dr.add(Convolution2D(16, kernel_size=(2, 2),\n",
    "                 activation='relu',\n",
    "                 kernel_initializer=he_normal(seed=None),padding='same',input_shape=input_shape))\n",
    "model_7_dr.add(Convolution2D(22, kernel_size=(2, 2),activation='relu'))\n",
    "model_7_dr.add(Convolution2D(28, kernel_size=(2, 2),activation='relu'))\n",
    "model_7_dr.add(MaxPooling2D(pool_size=(2, 2)))\n",
    "\n",
    "model_7_dr.add(Convolution2D(32, kernel_size=(2, 2),padding='same',activation='relu'))\n",
    "model_7_dr.add(Convolution2D(40, kernel_size=(2, 2),activation='relu'))\n",
    "model_7_dr.add(Convolution2D(50, kernel_size=(2, 2),activation='relu'))\n",
    "model_7_dr.add(Convolution2D(64, kernel_size=(2, 2),activation='relu'))\n",
    "model_7_dr.add(MaxPooling2D(pool_size=(2, 2)))\n",
    "\n",
    "model_7_dr.add(Dropout(0.2))\n",
    "model_7_dr.add(Flatten())\n",
    "model_7_dr.add(Dense(128, activation='relu'))\n",
    "model_7_dr.add(Dense(num_classes, activation='softmax'))\n",
    "\n",
    "model_7_dr.summary()"
   ]
  },
  {
   "cell_type": "code",
   "execution_count": 20,
   "metadata": {
    "colab": {
     "base_uri": "https://localhost:8080/",
     "height": 442
    },
    "colab_type": "code",
    "id": "no7pBxxLHAdz",
    "outputId": "af652dce-5fd5-4278-b956-71b612756b07"
   },
   "outputs": [
    {
     "name": "stdout",
     "output_type": "stream",
     "text": [
      "Train on 60000 samples, validate on 10000 samples\n",
      "Epoch 1/12\n",
      "60000/60000 [==============================] - 166s 3ms/step - loss: 0.5381 - acc: 0.8189 - val_loss: 0.0917 - val_acc: 0.9715\n",
      "Epoch 2/12\n",
      "60000/60000 [==============================] - 164s 3ms/step - loss: 0.1064 - acc: 0.9674 - val_loss: 0.0627 - val_acc: 0.9802\n",
      "Epoch 3/12\n",
      "60000/60000 [==============================] - 165s 3ms/step - loss: 0.0759 - acc: 0.9768 - val_loss: 0.0513 - val_acc: 0.9828\n",
      "Epoch 4/12\n",
      "60000/60000 [==============================] - 164s 3ms/step - loss: 0.0591 - acc: 0.9816 - val_loss: 0.0418 - val_acc: 0.9865\n",
      "Epoch 5/12\n",
      "60000/60000 [==============================] - 164s 3ms/step - loss: 0.0463 - acc: 0.9852 - val_loss: 0.0417 - val_acc: 0.9872\n",
      "Epoch 6/12\n",
      "60000/60000 [==============================] - 165s 3ms/step - loss: 0.0397 - acc: 0.9875 - val_loss: 0.0337 - val_acc: 0.9884\n",
      "Epoch 7/12\n",
      "60000/60000 [==============================] - 165s 3ms/step - loss: 0.0344 - acc: 0.9888 - val_loss: 0.0293 - val_acc: 0.9904\n",
      "Epoch 8/12\n",
      "60000/60000 [==============================] - 164s 3ms/step - loss: 0.0291 - acc: 0.9909 - val_loss: 0.0293 - val_acc: 0.9905\n",
      "Epoch 9/12\n",
      "60000/60000 [==============================] - 164s 3ms/step - loss: 0.0257 - acc: 0.9916 - val_loss: 0.0363 - val_acc: 0.9891\n",
      "Epoch 10/12\n",
      "60000/60000 [==============================] - 164s 3ms/step - loss: 0.0232 - acc: 0.9925 - val_loss: 0.0337 - val_acc: 0.9904\n",
      "Epoch 11/12\n",
      "60000/60000 [==============================] - 166s 3ms/step - loss: 0.0201 - acc: 0.9930 - val_loss: 0.0348 - val_acc: 0.9891\n",
      "Epoch 12/12\n",
      "60000/60000 [==============================] - 164s 3ms/step - loss: 0.0181 - acc: 0.9940 - val_loss: 0.0318 - val_acc: 0.9905\n"
     ]
    }
   ],
   "source": [
    "from keras.optimizers import Adagrad\n",
    "model_7_dr.compile(loss='categorical_crossentropy',\n",
    "              optimizer='adam',\n",
    "              metrics=['accuracy'])\n",
    "history_7_dr=model_7_dr.fit(x_train, y_train,\n",
    "          batch_size=batch_size,\n",
    "          epochs=epochs,\n",
    "          verbose=1,\n",
    "          validation_data=(x_test, y_test))"
   ]
  },
  {
   "cell_type": "code",
   "execution_count": 21,
   "metadata": {
    "colab": {
     "base_uri": "https://localhost:8080/",
     "height": 317
    },
    "colab_type": "code",
    "id": "vPNI3bpYHHqA",
    "outputId": "9a0e740a-93a1-4bdb-d225-6bfd2a82f1f0"
   },
   "outputs": [
    {
     "name": "stdout",
     "output_type": "stream",
     "text": [
      "Test score: 0.031752553663305844\n",
      "Test accuracy: 0.9905\n"
     ]
    },
    {
     "data": {
      "image/png": "[encoded data removed]",
      "text/plain": [
       "<Figure size 432x288 with 1 Axes>"
      ]
     },
     "metadata": {
      "tags": []
     },
     "output_type": "display_data"
    }
   ],
   "source": [
    "score = model_7_dr.evaluate(x_test, y_test, verbose=0) \n",
    "print('Test score:', score[0]) \n",
    "print('Test accuracy:', score[1])\n",
    "\n",
    "fig,ax = plt.subplots(1,1)\n",
    "ax.set_xlabel('epoch') ; ax.set_ylabel('Categorical Crossentropy Loss')\n",
    "\n",
    "# list of epoch numbers\n",
    "x = list(range(1,epochs+1))\n",
    "#Training loss\n",
    "vy = history_7_dr.history['val_loss']\n",
    "ty = history_7_dr.history['loss']\n",
    "plt_dynamic(x, vy, ty, ax)"
   ]
  },
  {
   "cell_type": "code",
   "execution_count": 5,
   "metadata": {
    "colab": {},
    "colab_type": "code",
    "id": "DATFePVnQww4"
   },
   "outputs": [
    {
     "name": "stdout",
     "output_type": "stream",
     "text": [
      "+--------------------------------+-----------+--------------+---------------+\n",
      "|             Model              | Test Loss | Dropout Rate | Test Accuracy |\n",
      "+--------------------------------+-----------+--------------+---------------+\n",
      "| CNN(with 3 Convolution Layers) |   0.022   |     0.5      |     99.32     |\n",
      "| CNN(with 5 Convolution Layers) |   0.024   |     0.5      |     99.34     |\n",
      "| CNN(with 7 Convolution Layers) |   0.0207  |     0.5      |     99.39     |\n",
      "| CNN(with 3 Convolution Layers) |    0.03   |     0.2      |     99.06     |\n",
      "| CNN(with 5 Convolution Layers) |   0.0295  |     0.2      |     99.18     |\n",
      "| CNN(with 7 Convolution Layers) |   0.031   |     0.2      |     99.05     |\n",
      "+--------------------------------+-----------+--------------+---------------+\n"
     ]
    }
   ],
   "source": [
    "from prettytable import PrettyTable\n",
    "    \n",
    "x = PrettyTable()\n",
    "\n",
    "x.field_names =[\"Model\",\"Test Loss\",\"Dropout Rate\",\"Test Accuracy\"]\n",
    "x.add_row([\"CNN(with 3 Convolution Layers)\",0.022,0.5,99.32])\n",
    "x.add_row([\"CNN(with 5 Convolution Layers)\",0.024,0.5,99.34])\n",
    "x.add_row([\"CNN(with 7 Convolution Layers)\",0.0207,0.5,99.39])\n",
    "x.add_row([\"CNN(with 3 Convolution Layers)\",0.030,0.2,99.06])\n",
    "x.add_row([\"CNN(with 5 Convolution Layers)\",0.0295,0.2,99.18])\n",
    "x.add_row([\"CNN(with 7 Convolution Layers)\",0.031,0.2,99.05])\n",
    "\n",
    "print(x)"
   ]
  },
  {
   "cell_type": "markdown",
   "metadata": {},
   "source": []
  },
  {
   "cell_type": "code",
   "execution_count": null,
   "metadata": {},
   "outputs": [],
   "source": []
  }
 ],
 "metadata": {
  "colab": {
   "collapsed_sections": [],
   "name": "Untitled2.ipynb",
   "provenance": [],
   "version": "0.3.2"
  },
  "kernelspec": {
   "display_name": "Python 3",
   "language": "python",
   "name": "python3"
  },
  "language_info": {
   "codemirror_mode": {
    "name": "ipython",
    "version": 3
   },
   "file_extension": ".py",
   "mimetype": "text/x-python",
   "name": "python",
   "nbconvert_exporter": "python",
   "pygments_lexer": "ipython3",
   "version": "3.7.6"
  }
 },
 "nbformat": 4,
 "nbformat_minor": 1
}
